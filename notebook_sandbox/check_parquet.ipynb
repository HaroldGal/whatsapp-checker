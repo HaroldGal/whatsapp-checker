{
 "cells": [
  {
   "cell_type": "code",
   "execution_count": null,
   "id": "245eebcc",
   "metadata": {},
   "outputs": [],
   "source": [
    "import os\n",
    "import polars as pl"
   ]
  },
  {
   "cell_type": "code",
   "execution_count": null,
   "id": "a93a5478",
   "metadata": {},
   "outputs": [],
   "source": [
    "BRONZE_DIR = \"../data/bronze\""
   ]
  },
  {
   "cell_type": "code",
   "execution_count": null,
   "id": "b3bd1425",
   "metadata": {},
   "outputs": [],
   "source": [
    "df = pl.read_parquet(os.path.join(BRONZE_DIR, \"WhatsApp Chat - One piece.parquet\"))\n",
    "df.head(50)"
   ]
  },
  {
   "cell_type": "code",
   "execution_count": null,
   "id": "3491c422",
   "metadata": {},
   "outputs": [],
   "source": [
    "df.group_by(\"sender\").len().sort(\"len\", descending=True)"
   ]
  },
  {
   "cell_type": "code",
   "execution_count": null,
   "id": "ea513266",
   "metadata": {},
   "outputs": [],
   "source": []
  }
 ],
 "metadata": {
  "kernelspec": {
   "display_name": "Python 3",
   "language": "python",
   "name": "python3"
  },
  "language_info": {
   "codemirror_mode": {
    "name": "ipython",
    "version": 3
   },
   "file_extension": ".py",
   "mimetype": "text/x-python",
   "name": "python",
   "nbconvert_exporter": "python",
   "pygments_lexer": "ipython3",
   "version": "3.12.2"
  }
 },
 "nbformat": 4,
 "nbformat_minor": 5
}
