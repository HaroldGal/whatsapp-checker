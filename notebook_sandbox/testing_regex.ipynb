{
 "cells": [
  {
   "cell_type": "code",
   "execution_count": 39,
   "id": "a93a5478",
   "metadata": {},
   "outputs": [],
   "source": [
    "a = \"[10/04/2025 20:59:56] Suzanne: Je vais pas arazdazdzadadzdza  toto\""
   ]
  },
  {
   "cell_type": "code",
   "execution_count": null,
   "id": "b3bd1425",
   "metadata": {},
   "outputs": [],
   "source": [
    "import re\n",
    "regex = re.compile(r\"^\\[(.*)\\] (.*): (.*)$\")\n",
    "p = regex.match(a)"
   ]
  },
  {
   "cell_type": "code",
   "execution_count": null,
   "id": "3491c422",
   "metadata": {},
   "outputs": [],
   "source": [
    "p.groups()"
   ]
  }
 ],
 "metadata": {
  "kernelspec": {
   "display_name": "Python 3",
   "language": "python",
   "name": "python3"
  },
  "language_info": {
   "codemirror_mode": {
    "name": "ipython",
    "version": 3
   },
   "file_extension": ".py",
   "mimetype": "text/x-python",
   "name": "python",
   "nbconvert_exporter": "python",
   "pygments_lexer": "ipython3",
   "version": "3.11.6"
  }
 },
 "nbformat": 4,
 "nbformat_minor": 5
}
